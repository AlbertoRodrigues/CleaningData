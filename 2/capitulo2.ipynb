{
 "cells": [
  {
   "cell_type": "markdown",
   "id": "f50c57b5",
   "metadata": {},
   "source": [
    "## Neste capítulo veremos como tratar valores inconsistente de variável categóricas. Algumas problemas comuns são:\n",
    "1. Valores inesperados ou fora do escopo da análise\n",
    "2. Valores que não seguem um padrão bem definido, por exemplo, valores iguais mas com strings ligeiramente diferentes"
   ]
  },
  {
   "cell_type": "code",
   "execution_count": 29,
   "id": "708cd86d",
   "metadata": {},
   "outputs": [],
   "source": [
    "import pandas as pd\n",
    "import numpy as np"
   ]
  },
  {
   "cell_type": "markdown",
   "id": "cde8ee61",
   "metadata": {},
   "source": [
    "#### Nesses dados, percebemos que há um valor inconsistente(fora dos valores pré-definidos) na variável tipo_sangue(Z+), nesse caso podemos excluir essa observação diretamente ou podemos criar uma variável com todos os tipos de sangue únicos adequados e depois retirar dos dados."
   ]
  },
  {
   "cell_type": "code",
   "execution_count": 11,
   "id": "35c3582a",
   "metadata": {},
   "outputs": [
    {
     "data": {
      "text/html": [
       "<div>\n",
       "<style scoped>\n",
       "    .dataframe tbody tr th:only-of-type {\n",
       "        vertical-align: middle;\n",
       "    }\n",
       "\n",
       "    .dataframe tbody tr th {\n",
       "        vertical-align: top;\n",
       "    }\n",
       "\n",
       "    .dataframe thead th {\n",
       "        text-align: right;\n",
       "    }\n",
       "</style>\n",
       "<table border=\"1\" class=\"dataframe\">\n",
       "  <thead>\n",
       "    <tr style=\"text-align: right;\">\n",
       "      <th></th>\n",
       "      <th>ID</th>\n",
       "      <th>tipo_sangue</th>\n",
       "    </tr>\n",
       "  </thead>\n",
       "  <tbody>\n",
       "    <tr>\n",
       "      <th>0</th>\n",
       "      <td>1</td>\n",
       "      <td>A+</td>\n",
       "    </tr>\n",
       "    <tr>\n",
       "      <th>1</th>\n",
       "      <td>2</td>\n",
       "      <td>B-</td>\n",
       "    </tr>\n",
       "    <tr>\n",
       "      <th>2</th>\n",
       "      <td>3</td>\n",
       "      <td>O+</td>\n",
       "    </tr>\n",
       "    <tr>\n",
       "      <th>3</th>\n",
       "      <td>4</td>\n",
       "      <td>AB+</td>\n",
       "    </tr>\n",
       "    <tr>\n",
       "      <th>4</th>\n",
       "      <td>5</td>\n",
       "      <td>Z+</td>\n",
       "    </tr>\n",
       "  </tbody>\n",
       "</table>\n",
       "</div>"
      ],
      "text/plain": [
       "   ID tipo_sangue\n",
       "0   1          A+\n",
       "1   2          B-\n",
       "2   3          O+\n",
       "3   4         AB+\n",
       "4   5          Z+"
      ]
     },
     "execution_count": 11,
     "metadata": {},
     "output_type": "execute_result"
    }
   ],
   "source": [
    "dados=pd.DataFrame({\"ID\": [1, 2, 3, 4, 5], \"tipo_sangue\": [\"A+\", \"B-\", \"O+\", \"AB+\", \"Z+\"]})\n",
    "dados"
   ]
  },
  {
   "cell_type": "code",
   "execution_count": 16,
   "id": "637360d6",
   "metadata": {},
   "outputs": [
    {
     "data": {
      "text/html": [
       "<div>\n",
       "<style scoped>\n",
       "    .dataframe tbody tr th:only-of-type {\n",
       "        vertical-align: middle;\n",
       "    }\n",
       "\n",
       "    .dataframe tbody tr th {\n",
       "        vertical-align: top;\n",
       "    }\n",
       "\n",
       "    .dataframe thead th {\n",
       "        text-align: right;\n",
       "    }\n",
       "</style>\n",
       "<table border=\"1\" class=\"dataframe\">\n",
       "  <thead>\n",
       "    <tr style=\"text-align: right;\">\n",
       "      <th></th>\n",
       "      <th>tipo_sangue</th>\n",
       "    </tr>\n",
       "  </thead>\n",
       "  <tbody>\n",
       "    <tr>\n",
       "      <th>0</th>\n",
       "      <td>A+</td>\n",
       "    </tr>\n",
       "    <tr>\n",
       "      <th>1</th>\n",
       "      <td>B-</td>\n",
       "    </tr>\n",
       "    <tr>\n",
       "      <th>2</th>\n",
       "      <td>O+</td>\n",
       "    </tr>\n",
       "    <tr>\n",
       "      <th>3</th>\n",
       "      <td>AB+</td>\n",
       "    </tr>\n",
       "  </tbody>\n",
       "</table>\n",
       "</div>"
      ],
      "text/plain": [
       "  tipo_sangue\n",
       "0          A+\n",
       "1          B-\n",
       "2          O+\n",
       "3         AB+"
      ]
     },
     "execution_count": 16,
     "metadata": {},
     "output_type": "execute_result"
    }
   ],
   "source": [
    "categorias=pd.DataFrame({\"tipo_sangue\":[\"A+\", \"B-\", \"O+\", \"AB+\"]})\n",
    "categorias"
   ]
  },
  {
   "cell_type": "markdown",
   "id": "11f93aa8",
   "metadata": {},
   "source": [
    "### Algumas formas de tratar valores inconsistente são:\n",
    "1. Excluir essas observações\n",
    "2. Tratar como valor faltante e imputar através de algum método"
   ]
  },
  {
   "cell_type": "code",
   "execution_count": 17,
   "id": "1473b610",
   "metadata": {},
   "outputs": [
    {
     "data": {
      "text/plain": [
       "{'Z+'}"
      ]
     },
     "execution_count": 17,
     "metadata": {},
     "output_type": "execute_result"
    }
   ],
   "source": [
    "tipo_sangue_inconsistente=set(dados[\"tipo_sangue\"]).difference(categorias[\"tipo_sangue\"])\n",
    "tipo_sangue_inconsistente"
   ]
  },
  {
   "cell_type": "code",
   "execution_count": 19,
   "id": "9e156f02",
   "metadata": {},
   "outputs": [
    {
     "data": {
      "text/plain": [
       "0    False\n",
       "1    False\n",
       "2    False\n",
       "3    False\n",
       "4     True\n",
       "Name: tipo_sangue, dtype: bool"
      ]
     },
     "execution_count": 19,
     "metadata": {},
     "output_type": "execute_result"
    }
   ],
   "source": [
    "linhas_inconsistentes=dados[\"tipo_sangue\"].isin(tipo_sangue_inconsistente)\n",
    "linhas_inconsistentes"
   ]
  },
  {
   "cell_type": "code",
   "execution_count": 20,
   "id": "9e6fb187",
   "metadata": {},
   "outputs": [
    {
     "data": {
      "text/html": [
       "<div>\n",
       "<style scoped>\n",
       "    .dataframe tbody tr th:only-of-type {\n",
       "        vertical-align: middle;\n",
       "    }\n",
       "\n",
       "    .dataframe tbody tr th {\n",
       "        vertical-align: top;\n",
       "    }\n",
       "\n",
       "    .dataframe thead th {\n",
       "        text-align: right;\n",
       "    }\n",
       "</style>\n",
       "<table border=\"1\" class=\"dataframe\">\n",
       "  <thead>\n",
       "    <tr style=\"text-align: right;\">\n",
       "      <th></th>\n",
       "      <th>ID</th>\n",
       "      <th>tipo_sangue</th>\n",
       "    </tr>\n",
       "  </thead>\n",
       "  <tbody>\n",
       "    <tr>\n",
       "      <th>4</th>\n",
       "      <td>5</td>\n",
       "      <td>Z+</td>\n",
       "    </tr>\n",
       "  </tbody>\n",
       "</table>\n",
       "</div>"
      ],
      "text/plain": [
       "   ID tipo_sangue\n",
       "4   5          Z+"
      ]
     },
     "execution_count": 20,
     "metadata": {},
     "output_type": "execute_result"
    }
   ],
   "source": [
    "# Dados com a observação inconsistente\n",
    "dados[linhas_inconsistentes]"
   ]
  },
  {
   "cell_type": "code",
   "execution_count": 21,
   "id": "eafece03",
   "metadata": {},
   "outputs": [
    {
     "data": {
      "text/html": [
       "<div>\n",
       "<style scoped>\n",
       "    .dataframe tbody tr th:only-of-type {\n",
       "        vertical-align: middle;\n",
       "    }\n",
       "\n",
       "    .dataframe tbody tr th {\n",
       "        vertical-align: top;\n",
       "    }\n",
       "\n",
       "    .dataframe thead th {\n",
       "        text-align: right;\n",
       "    }\n",
       "</style>\n",
       "<table border=\"1\" class=\"dataframe\">\n",
       "  <thead>\n",
       "    <tr style=\"text-align: right;\">\n",
       "      <th></th>\n",
       "      <th>ID</th>\n",
       "      <th>tipo_sangue</th>\n",
       "    </tr>\n",
       "  </thead>\n",
       "  <tbody>\n",
       "    <tr>\n",
       "      <th>0</th>\n",
       "      <td>1</td>\n",
       "      <td>A+</td>\n",
       "    </tr>\n",
       "    <tr>\n",
       "      <th>1</th>\n",
       "      <td>2</td>\n",
       "      <td>B-</td>\n",
       "    </tr>\n",
       "    <tr>\n",
       "      <th>2</th>\n",
       "      <td>3</td>\n",
       "      <td>O+</td>\n",
       "    </tr>\n",
       "    <tr>\n",
       "      <th>3</th>\n",
       "      <td>4</td>\n",
       "      <td>AB+</td>\n",
       "    </tr>\n",
       "  </tbody>\n",
       "</table>\n",
       "</div>"
      ],
      "text/plain": [
       "   ID tipo_sangue\n",
       "0   1          A+\n",
       "1   2          B-\n",
       "2   3          O+\n",
       "3   4         AB+"
      ]
     },
     "execution_count": 21,
     "metadata": {},
     "output_type": "execute_result"
    }
   ],
   "source": [
    "# Dados com a observação consistente, em seguida,\n",
    "dados[~linhas_inconsistentes]"
   ]
  },
  {
   "cell_type": "markdown",
   "id": "bb4d4545",
   "metadata": {},
   "source": [
    "### Outra problema que podemos encontrar na prática é a inconsistência de valores diferentes mas com o mesmo significado"
   ]
  },
  {
   "cell_type": "code",
   "execution_count": 22,
   "id": "f482b6ef",
   "metadata": {},
   "outputs": [
    {
     "data": {
      "text/html": [
       "<div>\n",
       "<style scoped>\n",
       "    .dataframe tbody tr th:only-of-type {\n",
       "        vertical-align: middle;\n",
       "    }\n",
       "\n",
       "    .dataframe tbody tr th {\n",
       "        vertical-align: top;\n",
       "    }\n",
       "\n",
       "    .dataframe thead th {\n",
       "        text-align: right;\n",
       "    }\n",
       "</style>\n",
       "<table border=\"1\" class=\"dataframe\">\n",
       "  <thead>\n",
       "    <tr style=\"text-align: right;\">\n",
       "      <th></th>\n",
       "      <th>var</th>\n",
       "    </tr>\n",
       "  </thead>\n",
       "  <tbody>\n",
       "    <tr>\n",
       "      <th>0</th>\n",
       "      <td>casado</td>\n",
       "    </tr>\n",
       "    <tr>\n",
       "      <th>1</th>\n",
       "      <td>casado</td>\n",
       "    </tr>\n",
       "    <tr>\n",
       "      <th>2</th>\n",
       "      <td>casado</td>\n",
       "    </tr>\n",
       "    <tr>\n",
       "      <th>3</th>\n",
       "      <td>CASADO</td>\n",
       "    </tr>\n",
       "    <tr>\n",
       "      <th>4</th>\n",
       "      <td>CASADO</td>\n",
       "    </tr>\n",
       "    <tr>\n",
       "      <th>5</th>\n",
       "      <td>casado</td>\n",
       "    </tr>\n",
       "    <tr>\n",
       "      <th>6</th>\n",
       "      <td>casado</td>\n",
       "    </tr>\n",
       "  </tbody>\n",
       "</table>\n",
       "</div>"
      ],
      "text/plain": [
       "       var\n",
       "0   casado\n",
       "1   casado\n",
       "2   casado\n",
       "3   CASADO\n",
       "4   CASADO\n",
       "5   casado\n",
       "6   casado"
      ]
     },
     "execution_count": 22,
     "metadata": {},
     "output_type": "execute_result"
    }
   ],
   "source": [
    "dados=pd.DataFrame({\"var\":[\"casado\", \"casado\", \"casado\", \"CASADO\", \"CASADO\", \" casado\", \" casado\"]})\n",
    "dados"
   ]
  },
  {
   "cell_type": "code",
   "execution_count": 24,
   "id": "822de248",
   "metadata": {},
   "outputs": [
    {
     "data": {
      "text/plain": [
       "casado     3\n",
       "CASADO     2\n",
       " casado    2\n",
       "Name: var, dtype: int64"
      ]
     },
     "execution_count": 24,
     "metadata": {},
     "output_type": "execute_result"
    }
   ],
   "source": [
    "# Devemos definir um padrão para esse tipo de dado\n",
    "dados[\"var\"].value_counts()"
   ]
  },
  {
   "cell_type": "code",
   "execution_count": 26,
   "id": "75cdef10",
   "metadata": {},
   "outputs": [
    {
     "data": {
      "text/plain": [
       "casado    5\n",
       "CASADO    2\n",
       "Name: var, dtype: int64"
      ]
     },
     "execution_count": 26,
     "metadata": {},
     "output_type": "execute_result"
    }
   ],
   "source": [
    "# Primeiro devemos tirar os espaços em branco usando a função strip e depois colocar todos os valores em minúsculo ou maiúsculo\n",
    "dados[\"var\"]=dados[\"var\"].str.strip()\n",
    "dados[\"var\"].value_counts()"
   ]
  },
  {
   "cell_type": "code",
   "execution_count": 27,
   "id": "b1c77c82",
   "metadata": {},
   "outputs": [
    {
     "data": {
      "text/plain": [
       "casado    7\n",
       "Name: var, dtype: int64"
      ]
     },
     "execution_count": 27,
     "metadata": {},
     "output_type": "execute_result"
    }
   ],
   "source": [
    "dados[\"var\"]=dados[\"var\"].str.lower()\n",
    "dados[\"var\"].value_counts()"
   ]
  },
  {
   "cell_type": "code",
   "execution_count": 28,
   "id": "fe7d50be",
   "metadata": {},
   "outputs": [
    {
     "data": {
      "text/plain": [
       "CASADO    7\n",
       "Name: var, dtype: int64"
      ]
     },
     "execution_count": 28,
     "metadata": {},
     "output_type": "execute_result"
    }
   ],
   "source": [
    "dados[\"var\"]=dados[\"var\"].str.upper()\n",
    "dados[\"var\"].value_counts()"
   ]
  },
  {
   "cell_type": "markdown",
   "id": "775d9e2c",
   "metadata": {},
   "source": [
    "#### Uma maneira prática de criar variáveis categóricas com um intervalo pré-definido a partir de variáveis numéricas é usando a função pd.qcut()"
   ]
  },
  {
   "cell_type": "code",
   "execution_count": 30,
   "id": "4351d394",
   "metadata": {},
   "outputs": [
    {
     "data": {
      "text/html": [
       "<div>\n",
       "<style scoped>\n",
       "    .dataframe tbody tr th:only-of-type {\n",
       "        vertical-align: middle;\n",
       "    }\n",
       "\n",
       "    .dataframe tbody tr th {\n",
       "        vertical-align: top;\n",
       "    }\n",
       "\n",
       "    .dataframe thead th {\n",
       "        text-align: right;\n",
       "    }\n",
       "</style>\n",
       "<table border=\"1\" class=\"dataframe\">\n",
       "  <thead>\n",
       "    <tr style=\"text-align: right;\">\n",
       "      <th></th>\n",
       "      <th>var</th>\n",
       "    </tr>\n",
       "  </thead>\n",
       "  <tbody>\n",
       "    <tr>\n",
       "      <th>0</th>\n",
       "      <td>46</td>\n",
       "    </tr>\n",
       "    <tr>\n",
       "      <th>1</th>\n",
       "      <td>4</td>\n",
       "    </tr>\n",
       "    <tr>\n",
       "      <th>2</th>\n",
       "      <td>49</td>\n",
       "    </tr>\n",
       "    <tr>\n",
       "      <th>3</th>\n",
       "      <td>6</td>\n",
       "    </tr>\n",
       "    <tr>\n",
       "      <th>4</th>\n",
       "      <td>3</td>\n",
       "    </tr>\n",
       "    <tr>\n",
       "      <th>...</th>\n",
       "      <td>...</td>\n",
       "    </tr>\n",
       "    <tr>\n",
       "      <th>995</th>\n",
       "      <td>27</td>\n",
       "    </tr>\n",
       "    <tr>\n",
       "      <th>996</th>\n",
       "      <td>33</td>\n",
       "    </tr>\n",
       "    <tr>\n",
       "      <th>997</th>\n",
       "      <td>30</td>\n",
       "    </tr>\n",
       "    <tr>\n",
       "      <th>998</th>\n",
       "      <td>34</td>\n",
       "    </tr>\n",
       "    <tr>\n",
       "      <th>999</th>\n",
       "      <td>19</td>\n",
       "    </tr>\n",
       "  </tbody>\n",
       "</table>\n",
       "<p>1000 rows × 1 columns</p>\n",
       "</div>"
      ],
      "text/plain": [
       "     var\n",
       "0     46\n",
       "1      4\n",
       "2     49\n",
       "3      6\n",
       "4      3\n",
       "..   ...\n",
       "995   27\n",
       "996   33\n",
       "997   30\n",
       "998   34\n",
       "999   19\n",
       "\n",
       "[1000 rows x 1 columns]"
      ]
     },
     "execution_count": 30,
     "metadata": {},
     "output_type": "execute_result"
    }
   ],
   "source": [
    "dados=pd.DataFrame({\"var\":np.random.randint(1,50, size=1000)})\n",
    "dados"
   ]
  },
  {
   "cell_type": "markdown",
   "id": "9ff34f2d",
   "metadata": {},
   "source": [
    "### A função pd.qcut têm três argumentos:\n",
    "1. Variável do DataFrame escolhida\n",
    "2. Intervalos da variável numérica para serem definidas na variável categórica\n",
    "3. Nomes dos intervalos da variável categórica a ser criada"
   ]
  },
  {
   "cell_type": "code",
   "execution_count": 41,
   "id": "ba6d2947",
   "metadata": {},
   "outputs": [
    {
     "data": {
      "text/plain": [
       "0        30+\n",
       "1       0-20\n",
       "2        30+\n",
       "3       0-20\n",
       "4       0-20\n",
       "       ...  \n",
       "995    20-30\n",
       "996      30+\n",
       "997    20-30\n",
       "998      30+\n",
       "999     0-20\n",
       "Name: var_cat, Length: 1000, dtype: category\n",
       "Categories (3, object): ['0-20' < '20-30' < '30+']"
      ]
     },
     "execution_count": 41,
     "metadata": {},
     "output_type": "execute_result"
    }
   ],
   "source": [
    "dados[\"var_cat\"]=pd.cut(dados[\"var\"], bins=[0, 20, 30, np.inf], labels=[\"0-20\", \"20-30\", \"30+\"])\n",
    "dados[\"var_cat\"]"
   ]
  },
  {
   "cell_type": "code",
   "execution_count": 43,
   "id": "b8d0b440",
   "metadata": {},
   "outputs": [
    {
     "data": {
      "text/plain": [
       "30+      403\n",
       "0-20     396\n",
       "20-30    201\n",
       "Name: var_cat, dtype: int64"
      ]
     },
     "execution_count": 43,
     "metadata": {},
     "output_type": "execute_result"
    }
   ],
   "source": [
    "dados[\"var_cat\"].value_counts()"
   ]
  }
 ],
 "metadata": {
  "kernelspec": {
   "display_name": "Python 3 (ipykernel)",
   "language": "python",
   "name": "python3"
  },
  "language_info": {
   "codemirror_mode": {
    "name": "ipython",
    "version": 3
   },
   "file_extension": ".py",
   "mimetype": "text/x-python",
   "name": "python",
   "nbconvert_exporter": "python",
   "pygments_lexer": "ipython3",
   "version": "3.9.7"
  }
 },
 "nbformat": 4,
 "nbformat_minor": 5
}
