{
 "cells": [
  {
   "cell_type": "markdown",
   "id": "08fab60a",
   "metadata": {},
   "source": [
    "## Nesse notebook apresentarei algumas funções úteis para limpeza de dados, especificamente incluindo:\n",
    "1. Exclusão de partes inadequadas em uma string\n",
    "2. Mudança de tipo de variável\n",
    "3. Restrições dos valores de uma variável"
   ]
  },
  {
   "cell_type": "code",
   "execution_count": 2,
   "id": "edcc488f",
   "metadata": {},
   "outputs": [],
   "source": [
    "import pandas as pd"
   ]
  },
  {
   "cell_type": "code",
   "execution_count": 3,
   "id": "3d9fe99b",
   "metadata": {},
   "outputs": [
    {
     "data": {
      "text/html": [
       "<div>\n",
       "<style scoped>\n",
       "    .dataframe tbody tr th:only-of-type {\n",
       "        vertical-align: middle;\n",
       "    }\n",
       "\n",
       "    .dataframe tbody tr th {\n",
       "        vertical-align: top;\n",
       "    }\n",
       "\n",
       "    .dataframe thead th {\n",
       "        text-align: right;\n",
       "    }\n",
       "</style>\n",
       "<table border=\"1\" class=\"dataframe\">\n",
       "  <thead>\n",
       "    <tr style=\"text-align: right;\">\n",
       "      <th></th>\n",
       "      <th>ID</th>\n",
       "      <th>Revenue</th>\n",
       "    </tr>\n",
       "  </thead>\n",
       "  <tbody>\n",
       "    <tr>\n",
       "      <th>0</th>\n",
       "      <td>1</td>\n",
       "      <td>10000$</td>\n",
       "    </tr>\n",
       "    <tr>\n",
       "      <th>1</th>\n",
       "      <td>2</td>\n",
       "      <td>20000$</td>\n",
       "    </tr>\n",
       "    <tr>\n",
       "      <th>2</th>\n",
       "      <td>3</td>\n",
       "      <td>5000$</td>\n",
       "    </tr>\n",
       "  </tbody>\n",
       "</table>\n",
       "</div>"
      ],
      "text/plain": [
       "   ID Revenue\n",
       "0   1  10000$\n",
       "1   2  20000$\n",
       "2   3   5000$"
      ]
     },
     "execution_count": 3,
     "metadata": {},
     "output_type": "execute_result"
    }
   ],
   "source": [
    "dados=pd.DataFrame({\"ID\":[1, 2, 3], \"Revenue\": [\"10000$\", \"20000$\", \"5000$\"]})\n",
    "dados"
   ]
  },
  {
   "cell_type": "markdown",
   "id": "f14db5a1",
   "metadata": {},
   "source": [
    "### Apesar da variável Revenue ser um número, ele está sendo tratada como uma string por causa do $. Logo, devemos tratar esse problemas de problema usando algumas funções "
   ]
  },
  {
   "cell_type": "code",
   "execution_count": 4,
   "id": "733047fa",
   "metadata": {},
   "outputs": [
    {
     "data": {
      "text/plain": [
       "ID          int64\n",
       "Revenue    object\n",
       "dtype: object"
      ]
     },
     "execution_count": 4,
     "metadata": {},
     "output_type": "execute_result"
    }
   ],
   "source": [
    "dados.dtypes"
   ]
  },
  {
   "cell_type": "markdown",
   "id": "18806515",
   "metadata": {},
   "source": [
    "### Portanto, se tirarmos métricas numérica nessa variável teremos alguns erros inesperados"
   ]
  },
  {
   "cell_type": "code",
   "execution_count": 5,
   "id": "31706978",
   "metadata": {},
   "outputs": [
    {
     "data": {
      "text/plain": [
       "'10000$20000$5000$'"
      ]
     },
     "execution_count": 5,
     "metadata": {},
     "output_type": "execute_result"
    }
   ],
   "source": [
    "dados[\"Revenue\"].sum()"
   ]
  },
  {
   "cell_type": "markdown",
   "id": "ca902f74",
   "metadata": {},
   "source": [
    "### Usarei duas funções:\n",
    "1. strip: Tira de uma string os argumentos fornecidos\n",
    "2. astype: Muda o tipo de uma variável"
   ]
  },
  {
   "cell_type": "code",
   "execution_count": 6,
   "id": "2738a4ff",
   "metadata": {},
   "outputs": [
    {
     "data": {
      "text/plain": [
       "0    10000\n",
       "1    20000\n",
       "2     5000\n",
       "Name: Revenue, dtype: int32"
      ]
     },
     "execution_count": 6,
     "metadata": {},
     "output_type": "execute_result"
    }
   ],
   "source": [
    "dados[\"Revenue\"]=dados[\"Revenue\"].str.strip(\"$\")\n",
    "dados[\"Revenue\"]=dados[\"Revenue\"].astype(\"int\")\n",
    "dados[\"Revenue\"]"
   ]
  },
  {
   "cell_type": "code",
   "execution_count": 7,
   "id": "cb564eaf",
   "metadata": {},
   "outputs": [
    {
     "data": {
      "text/plain": [
       "ID         int64\n",
       "Revenue    int32\n",
       "dtype: object"
      ]
     },
     "execution_count": 7,
     "metadata": {},
     "output_type": "execute_result"
    }
   ],
   "source": [
    "dados.dtypes"
   ]
  },
  {
   "cell_type": "code",
   "execution_count": 8,
   "id": "09dfbf23",
   "metadata": {},
   "outputs": [],
   "source": [
    "# Forma de verificar uma condição\n",
    "assert dados['Revenue'].dtype == 'int'"
   ]
  },
  {
   "cell_type": "markdown",
   "id": "2a2acf6f",
   "metadata": {},
   "source": [
    "### Agora vamos lidar com valores fora do intervalo desejado. Alguns métodos para contornar isso são:\n",
    "1. Excluir essas observações\n",
    "2. Setar valores para substituição como mínimo e máximo\n",
    "3. Tratar como valores faltantes e imputar\n",
    "4. Setar valores personalizados baseados na área de negócio"
   ]
  },
  {
   "cell_type": "markdown",
   "id": "37d74867",
   "metadata": {},
   "source": [
    "#### Vamos super que temos dados de filmes que são avaliados nos inteiros de 1 a 5"
   ]
  },
  {
   "cell_type": "code",
   "execution_count": 9,
   "id": "e2195e0e",
   "metadata": {},
   "outputs": [
    {
     "data": {
      "text/html": [
       "<div>\n",
       "<style scoped>\n",
       "    .dataframe tbody tr th:only-of-type {\n",
       "        vertical-align: middle;\n",
       "    }\n",
       "\n",
       "    .dataframe tbody tr th {\n",
       "        vertical-align: top;\n",
       "    }\n",
       "\n",
       "    .dataframe thead th {\n",
       "        text-align: right;\n",
       "    }\n",
       "</style>\n",
       "<table border=\"1\" class=\"dataframe\">\n",
       "  <thead>\n",
       "    <tr style=\"text-align: right;\">\n",
       "      <th></th>\n",
       "      <th>movie_name</th>\n",
       "      <th>rating</th>\n",
       "    </tr>\n",
       "  </thead>\n",
       "  <tbody>\n",
       "    <tr>\n",
       "      <th>0</th>\n",
       "      <td>A</td>\n",
       "      <td>1</td>\n",
       "    </tr>\n",
       "    <tr>\n",
       "      <th>1</th>\n",
       "      <td>B</td>\n",
       "      <td>5</td>\n",
       "    </tr>\n",
       "    <tr>\n",
       "      <th>2</th>\n",
       "      <td>C</td>\n",
       "      <td>6</td>\n",
       "    </tr>\n",
       "  </tbody>\n",
       "</table>\n",
       "</div>"
      ],
      "text/plain": [
       "  movie_name  rating\n",
       "0          A       1\n",
       "1          B       5\n",
       "2          C       6"
      ]
     },
     "execution_count": 9,
     "metadata": {},
     "output_type": "execute_result"
    }
   ],
   "source": [
    "movies=pd.DataFrame({\"movie_name\":[\"A\", \"B\", \"C\"], \"rating\":[1,5,6]})\n",
    "movies"
   ]
  },
  {
   "cell_type": "code",
   "execution_count": 10,
   "id": "fd82e67f",
   "metadata": {},
   "outputs": [
    {
     "data": {
      "text/html": [
       "<div>\n",
       "<style scoped>\n",
       "    .dataframe tbody tr th:only-of-type {\n",
       "        vertical-align: middle;\n",
       "    }\n",
       "\n",
       "    .dataframe tbody tr th {\n",
       "        vertical-align: top;\n",
       "    }\n",
       "\n",
       "    .dataframe thead th {\n",
       "        text-align: right;\n",
       "    }\n",
       "</style>\n",
       "<table border=\"1\" class=\"dataframe\">\n",
       "  <thead>\n",
       "    <tr style=\"text-align: right;\">\n",
       "      <th></th>\n",
       "      <th>movie_name</th>\n",
       "      <th>rating</th>\n",
       "    </tr>\n",
       "  </thead>\n",
       "  <tbody>\n",
       "    <tr>\n",
       "      <th>0</th>\n",
       "      <td>A</td>\n",
       "      <td>1</td>\n",
       "    </tr>\n",
       "    <tr>\n",
       "      <th>1</th>\n",
       "      <td>B</td>\n",
       "      <td>5</td>\n",
       "    </tr>\n",
       "  </tbody>\n",
       "</table>\n",
       "</div>"
      ],
      "text/plain": [
       "  movie_name  rating\n",
       "0          A       1\n",
       "1          B       5"
      ]
     },
     "execution_count": 10,
     "metadata": {},
     "output_type": "execute_result"
    }
   ],
   "source": [
    "# Drop values using filtering\n",
    "movies2 = movies[movies['rating'] <= 5]\n",
    "movies2"
   ]
  },
  {
   "cell_type": "code",
   "execution_count": 11,
   "id": "95b6346d",
   "metadata": {},
   "outputs": [],
   "source": [
    "assert movies2['rating'].max() <= 5"
   ]
  },
  {
   "cell_type": "code",
   "execution_count": 12,
   "id": "f0dbfcbe",
   "metadata": {},
   "outputs": [
    {
     "data": {
      "text/html": [
       "<div>\n",
       "<style scoped>\n",
       "    .dataframe tbody tr th:only-of-type {\n",
       "        vertical-align: middle;\n",
       "    }\n",
       "\n",
       "    .dataframe tbody tr th {\n",
       "        vertical-align: top;\n",
       "    }\n",
       "\n",
       "    .dataframe thead th {\n",
       "        text-align: right;\n",
       "    }\n",
       "</style>\n",
       "<table border=\"1\" class=\"dataframe\">\n",
       "  <thead>\n",
       "    <tr style=\"text-align: right;\">\n",
       "      <th></th>\n",
       "      <th>movie_name</th>\n",
       "      <th>rating</th>\n",
       "    </tr>\n",
       "  </thead>\n",
       "  <tbody>\n",
       "    <tr>\n",
       "      <th>0</th>\n",
       "      <td>A</td>\n",
       "      <td>1</td>\n",
       "    </tr>\n",
       "    <tr>\n",
       "      <th>1</th>\n",
       "      <td>B</td>\n",
       "      <td>5</td>\n",
       "    </tr>\n",
       "    <tr>\n",
       "      <th>2</th>\n",
       "      <td>C</td>\n",
       "      <td>5</td>\n",
       "    </tr>\n",
       "  </tbody>\n",
       "</table>\n",
       "</div>"
      ],
      "text/plain": [
       "  movie_name  rating\n",
       "0          A       1\n",
       "1          B       5\n",
       "2          C       5"
      ]
     },
     "execution_count": 12,
     "metadata": {},
     "output_type": "execute_result"
    }
   ],
   "source": [
    "# Convert avg_rating > 5 to 5\n",
    "movies.loc[movies['rating'] > 5, 'rating'] = 5\n",
    "movies"
   ]
  },
  {
   "cell_type": "code",
   "execution_count": 13,
   "id": "12a8aed9",
   "metadata": {},
   "outputs": [],
   "source": [
    "assert movies['rating'].max() <= 5"
   ]
  },
  {
   "cell_type": "markdown",
   "id": "d5abdbf0",
   "metadata": {},
   "source": [
    "### Tratamento de duplicadas:\n",
    "1. Vamos utilizar funções para achar duplicadas em todas as colunas ou em um subconjunto das variáveis. Para isso usamos as funções duplicated()\n",
    "2. Depois de encontrar as duplicadas, podemos usar outras funções para trata elas, como a drop_duplicates() no caso em que a observação é duplicada em todas as variáveis ou podemos agrupar os valores que são diferentes nas outras variáveis usando o groupby()"
   ]
  },
  {
   "cell_type": "markdown",
   "id": "1b99e140",
   "metadata": {},
   "source": [
    "### As funções duplicated() e drop_duplicates() tem alguns argumentos importantes:\n",
    "1. subset: Argumento que indica um subconjunto de variáveis para encontrarmos as duplicadas ou excluir \n",
    "2. keep: Argumento que indica o método que encontra ou exclui as duplicadas. Existem três tipos: first(), last() e False()\n",
    "3. inplace: Argumento somente da funções drop_duplicates, usado para excluir duplicadas diretamente da função usando o argumento True"
   ]
  },
  {
   "cell_type": "code",
   "execution_count": 21,
   "id": "70edab7f",
   "metadata": {},
   "outputs": [
    {
     "data": {
      "text/html": [
       "<div>\n",
       "<style scoped>\n",
       "    .dataframe tbody tr th:only-of-type {\n",
       "        vertical-align: middle;\n",
       "    }\n",
       "\n",
       "    .dataframe tbody tr th {\n",
       "        vertical-align: top;\n",
       "    }\n",
       "\n",
       "    .dataframe thead th {\n",
       "        text-align: right;\n",
       "    }\n",
       "</style>\n",
       "<table border=\"1\" class=\"dataframe\">\n",
       "  <thead>\n",
       "    <tr style=\"text-align: right;\">\n",
       "      <th></th>\n",
       "      <th>Nome</th>\n",
       "      <th>Altura</th>\n",
       "      <th>Peso</th>\n",
       "    </tr>\n",
       "  </thead>\n",
       "  <tbody>\n",
       "    <tr>\n",
       "      <th>0</th>\n",
       "      <td>Alberto</td>\n",
       "      <td>1.91</td>\n",
       "      <td>101</td>\n",
       "    </tr>\n",
       "    <tr>\n",
       "      <th>4</th>\n",
       "      <td>Alberto</td>\n",
       "      <td>1.91</td>\n",
       "      <td>101</td>\n",
       "    </tr>\n",
       "    <tr>\n",
       "      <th>1</th>\n",
       "      <td>Alex</td>\n",
       "      <td>1.80</td>\n",
       "      <td>75</td>\n",
       "    </tr>\n",
       "    <tr>\n",
       "      <th>5</th>\n",
       "      <td>Alex</td>\n",
       "      <td>1.80</td>\n",
       "      <td>75</td>\n",
       "    </tr>\n",
       "    <tr>\n",
       "      <th>3</th>\n",
       "      <td>Ana</td>\n",
       "      <td>1.55</td>\n",
       "      <td>52</td>\n",
       "    </tr>\n",
       "    <tr>\n",
       "      <th>7</th>\n",
       "      <td>Ana</td>\n",
       "      <td>1.52</td>\n",
       "      <td>52</td>\n",
       "    </tr>\n",
       "    <tr>\n",
       "      <th>2</th>\n",
       "      <td>Gabi</td>\n",
       "      <td>1.64</td>\n",
       "      <td>62</td>\n",
       "    </tr>\n",
       "    <tr>\n",
       "      <th>6</th>\n",
       "      <td>Gabi</td>\n",
       "      <td>1.64</td>\n",
       "      <td>60</td>\n",
       "    </tr>\n",
       "  </tbody>\n",
       "</table>\n",
       "</div>"
      ],
      "text/plain": [
       "      Nome  Altura  Peso\n",
       "0  Alberto    1.91   101\n",
       "4  Alberto    1.91   101\n",
       "1     Alex    1.80    75\n",
       "5     Alex    1.80    75\n",
       "3      Ana    1.55    52\n",
       "7      Ana    1.52    52\n",
       "2     Gabi    1.64    62\n",
       "6     Gabi    1.64    60"
      ]
     },
     "execution_count": 21,
     "metadata": {},
     "output_type": "execute_result"
    }
   ],
   "source": [
    "dados=pd.DataFrame({\"Nome\":[\"Alberto\", \"Alex\", \"Gabi\", \"Ana\", \"Alberto\", \"Alex\", \"Gabi\", \"Ana\"],\n",
    "                   \"Altura\":[1.91, 1.80, 1.64, 1.55, 1.91, 1.80, 1.64, 1.52],\n",
    "                   \"Peso\":[101, 75, 62, 52, 101, 75, 60, 52]})\n",
    "dados.sort_values(\"Nome\")"
   ]
  },
  {
   "cell_type": "code",
   "execution_count": 22,
   "id": "e95d375a",
   "metadata": {},
   "outputs": [
    {
     "data": {
      "text/plain": [
       "0    False\n",
       "1    False\n",
       "2    False\n",
       "3    False\n",
       "4     True\n",
       "5     True\n",
       "6    False\n",
       "7    False\n",
       "dtype: bool"
      ]
     },
     "execution_count": 22,
     "metadata": {},
     "output_type": "execute_result"
    }
   ],
   "source": [
    "duplicadas=dados.duplicated()\n",
    "duplicadas"
   ]
  },
  {
   "cell_type": "code",
   "execution_count": 23,
   "id": "807619e5",
   "metadata": {},
   "outputs": [
    {
     "data": {
      "text/html": [
       "<div>\n",
       "<style scoped>\n",
       "    .dataframe tbody tr th:only-of-type {\n",
       "        vertical-align: middle;\n",
       "    }\n",
       "\n",
       "    .dataframe tbody tr th {\n",
       "        vertical-align: top;\n",
       "    }\n",
       "\n",
       "    .dataframe thead th {\n",
       "        text-align: right;\n",
       "    }\n",
       "</style>\n",
       "<table border=\"1\" class=\"dataframe\">\n",
       "  <thead>\n",
       "    <tr style=\"text-align: right;\">\n",
       "      <th></th>\n",
       "      <th>Nome</th>\n",
       "      <th>Altura</th>\n",
       "      <th>Peso</th>\n",
       "    </tr>\n",
       "  </thead>\n",
       "  <tbody>\n",
       "    <tr>\n",
       "      <th>4</th>\n",
       "      <td>Alberto</td>\n",
       "      <td>1.91</td>\n",
       "      <td>101</td>\n",
       "    </tr>\n",
       "    <tr>\n",
       "      <th>5</th>\n",
       "      <td>Alex</td>\n",
       "      <td>1.80</td>\n",
       "      <td>75</td>\n",
       "    </tr>\n",
       "  </tbody>\n",
       "</table>\n",
       "</div>"
      ],
      "text/plain": [
       "      Nome  Altura  Peso\n",
       "4  Alberto    1.91   101\n",
       "5     Alex    1.80    75"
      ]
     },
     "execution_count": 23,
     "metadata": {},
     "output_type": "execute_result"
    }
   ],
   "source": [
    "dados[duplicadas]"
   ]
  },
  {
   "cell_type": "markdown",
   "id": "6d456c50",
   "metadata": {},
   "source": [
    "## Aqui percebemos um problema comum que já aconteceu comigo várias vezes:\n",
    "1. Duplicadas em todas as linhas, essas devemos excluir\n",
    "2. Duplicadas na variável chave da base(Nome) e com valores diferentes nas outras variáveis: Altura e Peso. Especificamente, nas observações com Nome Ana e Gabi. Nesses casos uma opção é agrupar essas variáveis através de alguma métrica usando o groupby()"
   ]
  },
  {
   "cell_type": "code",
   "execution_count": 24,
   "id": "e480104d",
   "metadata": {},
   "outputs": [
    {
     "data": {
      "text/html": [
       "<div>\n",
       "<style scoped>\n",
       "    .dataframe tbody tr th:only-of-type {\n",
       "        vertical-align: middle;\n",
       "    }\n",
       "\n",
       "    .dataframe tbody tr th {\n",
       "        vertical-align: top;\n",
       "    }\n",
       "\n",
       "    .dataframe thead th {\n",
       "        text-align: right;\n",
       "    }\n",
       "</style>\n",
       "<table border=\"1\" class=\"dataframe\">\n",
       "  <thead>\n",
       "    <tr style=\"text-align: right;\">\n",
       "      <th></th>\n",
       "      <th>Nome</th>\n",
       "      <th>Altura</th>\n",
       "      <th>Peso</th>\n",
       "    </tr>\n",
       "  </thead>\n",
       "  <tbody>\n",
       "    <tr>\n",
       "      <th>0</th>\n",
       "      <td>Alberto</td>\n",
       "      <td>1.91</td>\n",
       "      <td>101</td>\n",
       "    </tr>\n",
       "    <tr>\n",
       "      <th>4</th>\n",
       "      <td>Alberto</td>\n",
       "      <td>1.91</td>\n",
       "      <td>101</td>\n",
       "    </tr>\n",
       "    <tr>\n",
       "      <th>1</th>\n",
       "      <td>Alex</td>\n",
       "      <td>1.80</td>\n",
       "      <td>75</td>\n",
       "    </tr>\n",
       "    <tr>\n",
       "      <th>5</th>\n",
       "      <td>Alex</td>\n",
       "      <td>1.80</td>\n",
       "      <td>75</td>\n",
       "    </tr>\n",
       "    <tr>\n",
       "      <th>3</th>\n",
       "      <td>Ana</td>\n",
       "      <td>1.55</td>\n",
       "      <td>52</td>\n",
       "    </tr>\n",
       "    <tr>\n",
       "      <th>7</th>\n",
       "      <td>Ana</td>\n",
       "      <td>1.52</td>\n",
       "      <td>52</td>\n",
       "    </tr>\n",
       "    <tr>\n",
       "      <th>2</th>\n",
       "      <td>Gabi</td>\n",
       "      <td>1.64</td>\n",
       "      <td>62</td>\n",
       "    </tr>\n",
       "    <tr>\n",
       "      <th>6</th>\n",
       "      <td>Gabi</td>\n",
       "      <td>1.64</td>\n",
       "      <td>60</td>\n",
       "    </tr>\n",
       "  </tbody>\n",
       "</table>\n",
       "</div>"
      ],
      "text/plain": [
       "      Nome  Altura  Peso\n",
       "0  Alberto    1.91   101\n",
       "4  Alberto    1.91   101\n",
       "1     Alex    1.80    75\n",
       "5     Alex    1.80    75\n",
       "3      Ana    1.55    52\n",
       "7      Ana    1.52    52\n",
       "2     Gabi    1.64    62\n",
       "6     Gabi    1.64    60"
      ]
     },
     "execution_count": 24,
     "metadata": {},
     "output_type": "execute_result"
    }
   ],
   "source": [
    "duplicadas=dados.duplicated(subset=[\"Nome\"], keep=False)\n",
    "dados[duplicadas].sort_values(\"Nome\")"
   ]
  },
  {
   "cell_type": "code",
   "execution_count": 25,
   "id": "720265ec",
   "metadata": {},
   "outputs": [
    {
     "data": {
      "text/html": [
       "<div>\n",
       "<style scoped>\n",
       "    .dataframe tbody tr th:only-of-type {\n",
       "        vertical-align: middle;\n",
       "    }\n",
       "\n",
       "    .dataframe tbody tr th {\n",
       "        vertical-align: top;\n",
       "    }\n",
       "\n",
       "    .dataframe thead th {\n",
       "        text-align: right;\n",
       "    }\n",
       "</style>\n",
       "<table border=\"1\" class=\"dataframe\">\n",
       "  <thead>\n",
       "    <tr style=\"text-align: right;\">\n",
       "      <th></th>\n",
       "      <th>Nome</th>\n",
       "      <th>Altura</th>\n",
       "      <th>Peso</th>\n",
       "    </tr>\n",
       "  </thead>\n",
       "  <tbody>\n",
       "    <tr>\n",
       "      <th>0</th>\n",
       "      <td>Alberto</td>\n",
       "      <td>1.91</td>\n",
       "      <td>101</td>\n",
       "    </tr>\n",
       "    <tr>\n",
       "      <th>1</th>\n",
       "      <td>Alex</td>\n",
       "      <td>1.80</td>\n",
       "      <td>75</td>\n",
       "    </tr>\n",
       "    <tr>\n",
       "      <th>3</th>\n",
       "      <td>Ana</td>\n",
       "      <td>1.55</td>\n",
       "      <td>52</td>\n",
       "    </tr>\n",
       "    <tr>\n",
       "      <th>7</th>\n",
       "      <td>Ana</td>\n",
       "      <td>1.52</td>\n",
       "      <td>52</td>\n",
       "    </tr>\n",
       "    <tr>\n",
       "      <th>2</th>\n",
       "      <td>Gabi</td>\n",
       "      <td>1.64</td>\n",
       "      <td>62</td>\n",
       "    </tr>\n",
       "    <tr>\n",
       "      <th>6</th>\n",
       "      <td>Gabi</td>\n",
       "      <td>1.64</td>\n",
       "      <td>60</td>\n",
       "    </tr>\n",
       "  </tbody>\n",
       "</table>\n",
       "</div>"
      ],
      "text/plain": [
       "      Nome  Altura  Peso\n",
       "0  Alberto    1.91   101\n",
       "1     Alex    1.80    75\n",
       "3      Ana    1.55    52\n",
       "7      Ana    1.52    52\n",
       "2     Gabi    1.64    62\n",
       "6     Gabi    1.64    60"
      ]
     },
     "execution_count": 25,
     "metadata": {},
     "output_type": "execute_result"
    }
   ],
   "source": [
    "dados.drop_duplicates(keep=\"first\", inplace=True)\n",
    "dados.sort_values(\"Nome\")"
   ]
  },
  {
   "cell_type": "code",
   "execution_count": 29,
   "id": "8bcfc18e",
   "metadata": {},
   "outputs": [
    {
     "data": {
      "text/html": [
       "<div>\n",
       "<style scoped>\n",
       "    .dataframe tbody tr th:only-of-type {\n",
       "        vertical-align: middle;\n",
       "    }\n",
       "\n",
       "    .dataframe tbody tr th {\n",
       "        vertical-align: top;\n",
       "    }\n",
       "\n",
       "    .dataframe thead th {\n",
       "        text-align: right;\n",
       "    }\n",
       "</style>\n",
       "<table border=\"1\" class=\"dataframe\">\n",
       "  <thead>\n",
       "    <tr style=\"text-align: right;\">\n",
       "      <th></th>\n",
       "      <th>Nome</th>\n",
       "      <th>Altura</th>\n",
       "      <th>Peso</th>\n",
       "    </tr>\n",
       "  </thead>\n",
       "  <tbody>\n",
       "    <tr>\n",
       "      <th>0</th>\n",
       "      <td>Alberto</td>\n",
       "      <td>1.91</td>\n",
       "      <td>101.0</td>\n",
       "    </tr>\n",
       "    <tr>\n",
       "      <th>1</th>\n",
       "      <td>Alex</td>\n",
       "      <td>1.80</td>\n",
       "      <td>75.0</td>\n",
       "    </tr>\n",
       "    <tr>\n",
       "      <th>2</th>\n",
       "      <td>Ana</td>\n",
       "      <td>1.55</td>\n",
       "      <td>52.0</td>\n",
       "    </tr>\n",
       "    <tr>\n",
       "      <th>3</th>\n",
       "      <td>Gabi</td>\n",
       "      <td>1.64</td>\n",
       "      <td>61.0</td>\n",
       "    </tr>\n",
       "  </tbody>\n",
       "</table>\n",
       "</div>"
      ],
      "text/plain": [
       "      Nome  Altura   Peso\n",
       "0  Alberto    1.91  101.0\n",
       "1     Alex    1.80   75.0\n",
       "2      Ana    1.55   52.0\n",
       "3     Gabi    1.64   61.0"
      ]
     },
     "execution_count": 29,
     "metadata": {},
     "output_type": "execute_result"
    }
   ],
   "source": [
    "dados=dados.groupby(\"Nome\").agg({\"Altura\": \"max\", \"Peso\":\"mean\"}).reset_index()\n",
    "dados"
   ]
  }
 ],
 "metadata": {
  "kernelspec": {
   "display_name": "Python 3 (ipykernel)",
   "language": "python",
   "name": "python3"
  },
  "language_info": {
   "codemirror_mode": {
    "name": "ipython",
    "version": 3
   },
   "file_extension": ".py",
   "mimetype": "text/x-python",
   "name": "python",
   "nbconvert_exporter": "python",
   "pygments_lexer": "ipython3",
   "version": "3.9.7"
  }
 },
 "nbformat": 4,
 "nbformat_minor": 5
}
