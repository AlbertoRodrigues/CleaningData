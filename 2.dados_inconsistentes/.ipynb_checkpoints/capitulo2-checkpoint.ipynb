{
 "cells": [
  {
   "cell_type": "markdown",
   "id": "f50c57b5",
   "metadata": {},
   "source": [
    "## Neste capítulo veremos como tratar valores inconsistente de variável categóricas. Algumas problemas comuns são:\n",
    "1. Valores inesperados ou fora do escopo da análise\n",
    "2. Valores que não seguem um padrão bem definido, por exemplo, valores iguais mas com strings ligeiramente diferentes"
   ]
  },
  {
   "cell_type": "code",
   "execution_count": 1,
   "id": "708cd86d",
   "metadata": {},
   "outputs": [],
   "source": [
    "import pandas as pd\n",
    "import numpy as np"
   ]
  },
  {
   "cell_type": "markdown",
   "id": "cde8ee61",
   "metadata": {},
   "source": [
    "#### Nesses dados, percebemos que há um valor inconsistente(fora dos valores pré-definidos) na variável tipo_sangue(Z+), nesse caso podemos excluir essa observação diretamente ou podemos criar uma variável com todos os tipos de sangue únicos adequados e depois retirar dos dados."
   ]
  },
  {
   "cell_type": "code",
   "execution_count": 2,
   "id": "35c3582a",
   "metadata": {},
   "outputs": [
    {
     "data": {
      "text/html": [
       "<div>\n",
       "<style scoped>\n",
       "    .dataframe tbody tr th:only-of-type {\n",
       "        vertical-align: middle;\n",
       "    }\n",
       "\n",
       "    .dataframe tbody tr th {\n",
       "        vertical-align: top;\n",
       "    }\n",
       "\n",
       "    .dataframe thead th {\n",
       "        text-align: right;\n",
       "    }\n",
       "</style>\n",
       "<table border=\"1\" class=\"dataframe\">\n",
       "  <thead>\n",
       "    <tr style=\"text-align: right;\">\n",
       "      <th></th>\n",
       "      <th>ID</th>\n",
       "      <th>tipo_sangue</th>\n",
       "    </tr>\n",
       "  </thead>\n",
       "  <tbody>\n",
       "    <tr>\n",
       "      <th>0</th>\n",
       "      <td>1</td>\n",
       "      <td>A+</td>\n",
       "    </tr>\n",
       "    <tr>\n",
       "      <th>1</th>\n",
       "      <td>2</td>\n",
       "      <td>B-</td>\n",
       "    </tr>\n",
       "    <tr>\n",
       "      <th>2</th>\n",
       "      <td>3</td>\n",
       "      <td>O+</td>\n",
       "    </tr>\n",
       "    <tr>\n",
       "      <th>3</th>\n",
       "      <td>4</td>\n",
       "      <td>AB+</td>\n",
       "    </tr>\n",
       "    <tr>\n",
       "      <th>4</th>\n",
       "      <td>5</td>\n",
       "      <td>Z+</td>\n",
       "    </tr>\n",
       "  </tbody>\n",
       "</table>\n",
       "</div>"
      ],
      "text/plain": [
       "   ID tipo_sangue\n",
       "0   1          A+\n",
       "1   2          B-\n",
       "2   3          O+\n",
       "3   4         AB+\n",
       "4   5          Z+"
      ]
     },
     "execution_count": 2,
     "metadata": {},
     "output_type": "execute_result"
    }
   ],
   "source": [
    "dados=pd.DataFrame({\"ID\": [1, 2, 3, 4, 5], \"tipo_sangue\": [\"A+\", \"B-\", \"O+\", \"AB+\", \"Z+\"]})\n",
    "dados"
   ]
  },
  {
   "cell_type": "code",
   "execution_count": 3,
   "id": "637360d6",
   "metadata": {},
   "outputs": [
    {
     "data": {
      "text/html": [
       "<div>\n",
       "<style scoped>\n",
       "    .dataframe tbody tr th:only-of-type {\n",
       "        vertical-align: middle;\n",
       "    }\n",
       "\n",
       "    .dataframe tbody tr th {\n",
       "        vertical-align: top;\n",
       "    }\n",
       "\n",
       "    .dataframe thead th {\n",
       "        text-align: right;\n",
       "    }\n",
       "</style>\n",
       "<table border=\"1\" class=\"dataframe\">\n",
       "  <thead>\n",
       "    <tr style=\"text-align: right;\">\n",
       "      <th></th>\n",
       "      <th>tipo_sangue</th>\n",
       "    </tr>\n",
       "  </thead>\n",
       "  <tbody>\n",
       "    <tr>\n",
       "      <th>0</th>\n",
       "      <td>A+</td>\n",
       "    </tr>\n",
       "    <tr>\n",
       "      <th>1</th>\n",
       "      <td>B-</td>\n",
       "    </tr>\n",
       "    <tr>\n",
       "      <th>2</th>\n",
       "      <td>O+</td>\n",
       "    </tr>\n",
       "    <tr>\n",
       "      <th>3</th>\n",
       "      <td>AB+</td>\n",
       "    </tr>\n",
       "  </tbody>\n",
       "</table>\n",
       "</div>"
      ],
      "text/plain": [
       "  tipo_sangue\n",
       "0          A+\n",
       "1          B-\n",
       "2          O+\n",
       "3         AB+"
      ]
     },
     "execution_count": 3,
     "metadata": {},
     "output_type": "execute_result"
    }
   ],
   "source": [
    "categorias=pd.DataFrame({\"tipo_sangue\":[\"A+\", \"B-\", \"O+\", \"AB+\"]})\n",
    "categorias"
   ]
  },
  {
   "cell_type": "markdown",
   "id": "11f93aa8",
   "metadata": {},
   "source": [
    "### Algumas formas de tratar valores inconsistente são:\n",
    "1. Excluir essas observações\n",
    "2. Tratar como valor faltante e imputar através de algum método"
   ]
  },
  {
   "cell_type": "code",
   "execution_count": 4,
   "id": "1473b610",
   "metadata": {},
   "outputs": [
    {
     "data": {
      "text/plain": [
       "{'Z+'}"
      ]
     },
     "execution_count": 4,
     "metadata": {},
     "output_type": "execute_result"
    }
   ],
   "source": [
    "tipo_sangue_inconsistente=set(dados[\"tipo_sangue\"]).difference(categorias[\"tipo_sangue\"])\n",
    "tipo_sangue_inconsistente"
   ]
  },
  {
   "cell_type": "code",
   "execution_count": 5,
   "id": "9e156f02",
   "metadata": {},
   "outputs": [
    {
     "data": {
      "text/plain": [
       "0    False\n",
       "1    False\n",
       "2    False\n",
       "3    False\n",
       "4     True\n",
       "Name: tipo_sangue, dtype: bool"
      ]
     },
     "execution_count": 5,
     "metadata": {},
     "output_type": "execute_result"
    }
   ],
   "source": [
    "linhas_inconsistentes=dados[\"tipo_sangue\"].isin(tipo_sangue_inconsistente)\n",
    "linhas_inconsistentes"
   ]
  },
  {
   "cell_type": "code",
   "execution_count": 6,
   "id": "9e6fb187",
   "metadata": {},
   "outputs": [
    {
     "data": {
      "text/html": [
       "<div>\n",
       "<style scoped>\n",
       "    .dataframe tbody tr th:only-of-type {\n",
       "        vertical-align: middle;\n",
       "    }\n",
       "\n",
       "    .dataframe tbody tr th {\n",
       "        vertical-align: top;\n",
       "    }\n",
       "\n",
       "    .dataframe thead th {\n",
       "        text-align: right;\n",
       "    }\n",
       "</style>\n",
       "<table border=\"1\" class=\"dataframe\">\n",
       "  <thead>\n",
       "    <tr style=\"text-align: right;\">\n",
       "      <th></th>\n",
       "      <th>ID</th>\n",
       "      <th>tipo_sangue</th>\n",
       "    </tr>\n",
       "  </thead>\n",
       "  <tbody>\n",
       "    <tr>\n",
       "      <th>4</th>\n",
       "      <td>5</td>\n",
       "      <td>Z+</td>\n",
       "    </tr>\n",
       "  </tbody>\n",
       "</table>\n",
       "</div>"
      ],
      "text/plain": [
       "   ID tipo_sangue\n",
       "4   5          Z+"
      ]
     },
     "execution_count": 6,
     "metadata": {},
     "output_type": "execute_result"
    }
   ],
   "source": [
    "# Dados com a observação inconsistente\n",
    "dados[linhas_inconsistentes]"
   ]
  },
  {
   "cell_type": "code",
   "execution_count": 7,
   "id": "eafece03",
   "metadata": {},
   "outputs": [
    {
     "data": {
      "text/html": [
       "<div>\n",
       "<style scoped>\n",
       "    .dataframe tbody tr th:only-of-type {\n",
       "        vertical-align: middle;\n",
       "    }\n",
       "\n",
       "    .dataframe tbody tr th {\n",
       "        vertical-align: top;\n",
       "    }\n",
       "\n",
       "    .dataframe thead th {\n",
       "        text-align: right;\n",
       "    }\n",
       "</style>\n",
       "<table border=\"1\" class=\"dataframe\">\n",
       "  <thead>\n",
       "    <tr style=\"text-align: right;\">\n",
       "      <th></th>\n",
       "      <th>ID</th>\n",
       "      <th>tipo_sangue</th>\n",
       "    </tr>\n",
       "  </thead>\n",
       "  <tbody>\n",
       "    <tr>\n",
       "      <th>0</th>\n",
       "      <td>1</td>\n",
       "      <td>A+</td>\n",
       "    </tr>\n",
       "    <tr>\n",
       "      <th>1</th>\n",
       "      <td>2</td>\n",
       "      <td>B-</td>\n",
       "    </tr>\n",
       "    <tr>\n",
       "      <th>2</th>\n",
       "      <td>3</td>\n",
       "      <td>O+</td>\n",
       "    </tr>\n",
       "    <tr>\n",
       "      <th>3</th>\n",
       "      <td>4</td>\n",
       "      <td>AB+</td>\n",
       "    </tr>\n",
       "  </tbody>\n",
       "</table>\n",
       "</div>"
      ],
      "text/plain": [
       "   ID tipo_sangue\n",
       "0   1          A+\n",
       "1   2          B-\n",
       "2   3          O+\n",
       "3   4         AB+"
      ]
     },
     "execution_count": 7,
     "metadata": {},
     "output_type": "execute_result"
    }
   ],
   "source": [
    "# Dados com a observação consistente, em seguida,\n",
    "dados[~linhas_inconsistentes]"
   ]
  },
  {
   "cell_type": "markdown",
   "id": "bb4d4545",
   "metadata": {},
   "source": [
    "### Outra problema que podemos encontrar na prática é a inconsistência de valores diferentes mas com o mesmo significado"
   ]
  },
  {
   "cell_type": "code",
   "execution_count": 8,
   "id": "f482b6ef",
   "metadata": {},
   "outputs": [
    {
     "data": {
      "text/html": [
       "<div>\n",
       "<style scoped>\n",
       "    .dataframe tbody tr th:only-of-type {\n",
       "        vertical-align: middle;\n",
       "    }\n",
       "\n",
       "    .dataframe tbody tr th {\n",
       "        vertical-align: top;\n",
       "    }\n",
       "\n",
       "    .dataframe thead th {\n",
       "        text-align: right;\n",
       "    }\n",
       "</style>\n",
       "<table border=\"1\" class=\"dataframe\">\n",
       "  <thead>\n",
       "    <tr style=\"text-align: right;\">\n",
       "      <th></th>\n",
       "      <th>var</th>\n",
       "    </tr>\n",
       "  </thead>\n",
       "  <tbody>\n",
       "    <tr>\n",
       "      <th>0</th>\n",
       "      <td>casado</td>\n",
       "    </tr>\n",
       "    <tr>\n",
       "      <th>1</th>\n",
       "      <td>casado</td>\n",
       "    </tr>\n",
       "    <tr>\n",
       "      <th>2</th>\n",
       "      <td>casado</td>\n",
       "    </tr>\n",
       "    <tr>\n",
       "      <th>3</th>\n",
       "      <td>CASADO</td>\n",
       "    </tr>\n",
       "    <tr>\n",
       "      <th>4</th>\n",
       "      <td>CASADO</td>\n",
       "    </tr>\n",
       "    <tr>\n",
       "      <th>5</th>\n",
       "      <td>casado</td>\n",
       "    </tr>\n",
       "    <tr>\n",
       "      <th>6</th>\n",
       "      <td>casado</td>\n",
       "    </tr>\n",
       "  </tbody>\n",
       "</table>\n",
       "</div>"
      ],
      "text/plain": [
       "       var\n",
       "0   casado\n",
       "1   casado\n",
       "2   casado\n",
       "3   CASADO\n",
       "4   CASADO\n",
       "5   casado\n",
       "6   casado"
      ]
     },
     "execution_count": 8,
     "metadata": {},
     "output_type": "execute_result"
    }
   ],
   "source": [
    "dados=pd.DataFrame({\"var\":[\"casado\", \"casado\", \"casado\", \"CASADO\", \"CASADO\", \" casado\", \" casado\"]})\n",
    "dados"
   ]
  },
  {
   "cell_type": "code",
   "execution_count": 9,
   "id": "822de248",
   "metadata": {},
   "outputs": [
    {
     "data": {
      "text/plain": [
       "casado     3\n",
       "CASADO     2\n",
       " casado    2\n",
       "Name: var, dtype: int64"
      ]
     },
     "execution_count": 9,
     "metadata": {},
     "output_type": "execute_result"
    }
   ],
   "source": [
    "# Devemos definir um padrão para esse tipo de dado\n",
    "dados[\"var\"].value_counts()"
   ]
  },
  {
   "cell_type": "code",
   "execution_count": 10,
   "id": "75cdef10",
   "metadata": {},
   "outputs": [
    {
     "data": {
      "text/plain": [
       "casado    5\n",
       "CASADO    2\n",
       "Name: var, dtype: int64"
      ]
     },
     "execution_count": 10,
     "metadata": {},
     "output_type": "execute_result"
    }
   ],
   "source": [
    "# Primeiro devemos tirar os espaços em branco usando a função strip e depois colocar todos os valores em minúsculo ou maiúsculo\n",
    "dados[\"var\"]=dados[\"var\"].str.strip()\n",
    "dados[\"var\"].value_counts()"
   ]
  },
  {
   "cell_type": "code",
   "execution_count": 11,
   "id": "b1c77c82",
   "metadata": {},
   "outputs": [
    {
     "data": {
      "text/plain": [
       "casado    7\n",
       "Name: var, dtype: int64"
      ]
     },
     "execution_count": 11,
     "metadata": {},
     "output_type": "execute_result"
    }
   ],
   "source": [
    "dados[\"var\"]=dados[\"var\"].str.lower()\n",
    "dados[\"var\"].value_counts()"
   ]
  },
  {
   "cell_type": "code",
   "execution_count": 12,
   "id": "fe7d50be",
   "metadata": {},
   "outputs": [
    {
     "data": {
      "text/plain": [
       "CASADO    7\n",
       "Name: var, dtype: int64"
      ]
     },
     "execution_count": 12,
     "metadata": {},
     "output_type": "execute_result"
    }
   ],
   "source": [
    "dados[\"var\"]=dados[\"var\"].str.upper()\n",
    "dados[\"var\"].value_counts()"
   ]
  },
  {
   "cell_type": "markdown",
   "id": "775d9e2c",
   "metadata": {},
   "source": [
    "#### Uma maneira prática de criar variáveis categóricas com um intervalo pré-definido a partir de variáveis numéricas é usando a função pd.qcut()"
   ]
  },
  {
   "cell_type": "code",
   "execution_count": 13,
   "id": "4351d394",
   "metadata": {},
   "outputs": [
    {
     "data": {
      "text/html": [
       "<div>\n",
       "<style scoped>\n",
       "    .dataframe tbody tr th:only-of-type {\n",
       "        vertical-align: middle;\n",
       "    }\n",
       "\n",
       "    .dataframe tbody tr th {\n",
       "        vertical-align: top;\n",
       "    }\n",
       "\n",
       "    .dataframe thead th {\n",
       "        text-align: right;\n",
       "    }\n",
       "</style>\n",
       "<table border=\"1\" class=\"dataframe\">\n",
       "  <thead>\n",
       "    <tr style=\"text-align: right;\">\n",
       "      <th></th>\n",
       "      <th>var</th>\n",
       "    </tr>\n",
       "  </thead>\n",
       "  <tbody>\n",
       "    <tr>\n",
       "      <th>0</th>\n",
       "      <td>13</td>\n",
       "    </tr>\n",
       "    <tr>\n",
       "      <th>1</th>\n",
       "      <td>31</td>\n",
       "    </tr>\n",
       "    <tr>\n",
       "      <th>2</th>\n",
       "      <td>33</td>\n",
       "    </tr>\n",
       "    <tr>\n",
       "      <th>3</th>\n",
       "      <td>23</td>\n",
       "    </tr>\n",
       "    <tr>\n",
       "      <th>4</th>\n",
       "      <td>41</td>\n",
       "    </tr>\n",
       "    <tr>\n",
       "      <th>...</th>\n",
       "      <td>...</td>\n",
       "    </tr>\n",
       "    <tr>\n",
       "      <th>995</th>\n",
       "      <td>28</td>\n",
       "    </tr>\n",
       "    <tr>\n",
       "      <th>996</th>\n",
       "      <td>19</td>\n",
       "    </tr>\n",
       "    <tr>\n",
       "      <th>997</th>\n",
       "      <td>18</td>\n",
       "    </tr>\n",
       "    <tr>\n",
       "      <th>998</th>\n",
       "      <td>46</td>\n",
       "    </tr>\n",
       "    <tr>\n",
       "      <th>999</th>\n",
       "      <td>47</td>\n",
       "    </tr>\n",
       "  </tbody>\n",
       "</table>\n",
       "<p>1000 rows × 1 columns</p>\n",
       "</div>"
      ],
      "text/plain": [
       "     var\n",
       "0     13\n",
       "1     31\n",
       "2     33\n",
       "3     23\n",
       "4     41\n",
       "..   ...\n",
       "995   28\n",
       "996   19\n",
       "997   18\n",
       "998   46\n",
       "999   47\n",
       "\n",
       "[1000 rows x 1 columns]"
      ]
     },
     "execution_count": 13,
     "metadata": {},
     "output_type": "execute_result"
    }
   ],
   "source": [
    "dados=pd.DataFrame({\"var\":np.random.randint(1,50, size=1000)})\n",
    "dados"
   ]
  },
  {
   "cell_type": "markdown",
   "id": "9ff34f2d",
   "metadata": {},
   "source": [
    "### A função pd.qcut têm três argumentos:\n",
    "1. Variável do DataFrame escolhida\n",
    "2. Intervalos da variável numérica para serem definidas na variável categórica\n",
    "3. Nomes dos intervalos da variável categórica a ser criada"
   ]
  },
  {
   "cell_type": "code",
   "execution_count": 14,
   "id": "ba6d2947",
   "metadata": {},
   "outputs": [
    {
     "data": {
      "text/plain": [
       "0       0-20\n",
       "1        30+\n",
       "2        30+\n",
       "3      20-30\n",
       "4        30+\n",
       "       ...  \n",
       "995    20-30\n",
       "996     0-20\n",
       "997     0-20\n",
       "998      30+\n",
       "999      30+\n",
       "Name: var_cat, Length: 1000, dtype: category\n",
       "Categories (3, object): ['0-20' < '20-30' < '30+']"
      ]
     },
     "execution_count": 14,
     "metadata": {},
     "output_type": "execute_result"
    }
   ],
   "source": [
    "dados[\"var_cat\"]=pd.cut(dados[\"var\"], bins=[0, 20, 30, np.inf], labels=[\"0-20\", \"20-30\", \"30+\"])\n",
    "dados[\"var_cat\"]"
   ]
  },
  {
   "cell_type": "code",
   "execution_count": 15,
   "id": "b8d0b440",
   "metadata": {},
   "outputs": [
    {
     "data": {
      "text/plain": [
       "0-20     427\n",
       "30+      378\n",
       "20-30    195\n",
       "Name: var_cat, dtype: int64"
      ]
     },
     "execution_count": 15,
     "metadata": {},
     "output_type": "execute_result"
    }
   ],
   "source": [
    "dados[\"var_cat\"].value_counts()"
   ]
  },
  {
   "cell_type": "markdown",
   "id": "4084a841",
   "metadata": {},
   "source": [
    "## Outro problema comum é querer agrupar valores de uma variável categórica em uma única valor. Por exemplo, podemos mapear todas as cidade do Ceará para o valor \"Ceará\", isso possibilidade uma remapeação dos dados, que pode ser útil as vezes. \n",
    "### Para esse objetivo podemos utilizar a função replace que tem como argumento os dicionários, em que as chaves são os valores a serem substituídos e os valores do dicionário são as substituições"
   ]
  },
  {
   "cell_type": "code",
   "execution_count": 16,
   "id": "b42f6b6e",
   "metadata": {},
   "outputs": [
    {
     "data": {
      "text/html": [
       "<div>\n",
       "<style scoped>\n",
       "    .dataframe tbody tr th:only-of-type {\n",
       "        vertical-align: middle;\n",
       "    }\n",
       "\n",
       "    .dataframe tbody tr th {\n",
       "        vertical-align: top;\n",
       "    }\n",
       "\n",
       "    .dataframe thead th {\n",
       "        text-align: right;\n",
       "    }\n",
       "</style>\n",
       "<table border=\"1\" class=\"dataframe\">\n",
       "  <thead>\n",
       "    <tr style=\"text-align: right;\">\n",
       "      <th></th>\n",
       "      <th>var</th>\n",
       "    </tr>\n",
       "  </thead>\n",
       "  <tbody>\n",
       "    <tr>\n",
       "      <th>0</th>\n",
       "      <td>Fortaleza</td>\n",
       "    </tr>\n",
       "    <tr>\n",
       "      <th>1</th>\n",
       "      <td>Fortaleza</td>\n",
       "    </tr>\n",
       "    <tr>\n",
       "      <th>2</th>\n",
       "      <td>Belo Horizonte</td>\n",
       "    </tr>\n",
       "    <tr>\n",
       "      <th>3</th>\n",
       "      <td>São Paulo</td>\n",
       "    </tr>\n",
       "    <tr>\n",
       "      <th>4</th>\n",
       "      <td>Horizonte</td>\n",
       "    </tr>\n",
       "  </tbody>\n",
       "</table>\n",
       "</div>"
      ],
      "text/plain": [
       "              var\n",
       "0       Fortaleza\n",
       "1       Fortaleza\n",
       "2  Belo Horizonte\n",
       "3       São Paulo\n",
       "4       Horizonte"
      ]
     },
     "execution_count": 16,
     "metadata": {},
     "output_type": "execute_result"
    }
   ],
   "source": [
    "dados=pd.DataFrame({\"var\": [\"Fortaleza\", \"Fortaleza\", \"Belo Horizonte\", \"Campinas\", \"Horizonte\"]})\n",
    "dados"
   ]
  },
  {
   "cell_type": "code",
   "execution_count": 18,
   "id": "fa122d8b",
   "metadata": {},
   "outputs": [
    {
     "data": {
      "text/html": [
       "<div>\n",
       "<style scoped>\n",
       "    .dataframe tbody tr th:only-of-type {\n",
       "        vertical-align: middle;\n",
       "    }\n",
       "\n",
       "    .dataframe tbody tr th {\n",
       "        vertical-align: top;\n",
       "    }\n",
       "\n",
       "    .dataframe thead th {\n",
       "        text-align: right;\n",
       "    }\n",
       "</style>\n",
       "<table border=\"1\" class=\"dataframe\">\n",
       "  <thead>\n",
       "    <tr style=\"text-align: right;\">\n",
       "      <th></th>\n",
       "      <th>var</th>\n",
       "    </tr>\n",
       "  </thead>\n",
       "  <tbody>\n",
       "    <tr>\n",
       "      <th>0</th>\n",
       "      <td>Ceará</td>\n",
       "    </tr>\n",
       "    <tr>\n",
       "      <th>1</th>\n",
       "      <td>Ceará</td>\n",
       "    </tr>\n",
       "    <tr>\n",
       "      <th>2</th>\n",
       "      <td>Minas Gerais</td>\n",
       "    </tr>\n",
       "    <tr>\n",
       "      <th>3</th>\n",
       "      <td>São Paulo</td>\n",
       "    </tr>\n",
       "    <tr>\n",
       "      <th>4</th>\n",
       "      <td>Ceará</td>\n",
       "    </tr>\n",
       "  </tbody>\n",
       "</table>\n",
       "</div>"
      ],
      "text/plain": [
       "            var\n",
       "0         Ceará\n",
       "1         Ceará\n",
       "2  Minas Gerais\n",
       "3     São Paulo\n",
       "4         Ceará"
      ]
     },
     "execution_count": 18,
     "metadata": {},
     "output_type": "execute_result"
    }
   ],
   "source": [
    "dados[\"var\"]=dados[\"var\"].replace({\"Fortaleza\": \"Ceará\", \"Belo Horizonte\": \"Minas Gerais\", \"Campinas\": \"São Paulo\", \"Horizonte\": \"Ceará\"})\n",
    "dados"
   ]
  },
  {
   "cell_type": "markdown",
   "id": "dd3b7f28",
   "metadata": {},
   "source": [
    "## Limpeza de dados de texto.\n",
    "#### Inúmeros problemas podem acontecer com dados de texto, como inconsistência, tamanho de texto não padronizado ou erros de tipo de variável. Alguns métodos que podemos usar para lidar com essa tipo de problema é usando a função replace ou expressões regulares."
   ]
  },
  {
   "attachments": {
    "image.png": {
     "image/png": "[encoded data removed]"
    }
   },
   "cell_type": "markdown",
   "id": "c264b2a5",
   "metadata": {},
   "source": [
    "![image.png](attachment:image.png)"
   ]
  },
  {
   "cell_type": "code",
   "execution_count": 20,
   "id": "3353a3a8",
   "metadata": {},
   "outputs": [
    {
     "data": {
      "text/html": [
       "<div>\n",
       "<style scoped>\n",
       "    .dataframe tbody tr th:only-of-type {\n",
       "        vertical-align: middle;\n",
       "    }\n",
       "\n",
       "    .dataframe tbody tr th {\n",
       "        vertical-align: top;\n",
       "    }\n",
       "\n",
       "    .dataframe thead th {\n",
       "        text-align: right;\n",
       "    }\n",
       "</style>\n",
       "<table border=\"1\" class=\"dataframe\">\n",
       "  <thead>\n",
       "    <tr style=\"text-align: right;\">\n",
       "      <th></th>\n",
       "      <th>ID</th>\n",
       "      <th>telefone</th>\n",
       "    </tr>\n",
       "  </thead>\n",
       "  <tbody>\n",
       "    <tr>\n",
       "      <th>0</th>\n",
       "      <td>1</td>\n",
       "      <td>001-702-397-5143</td>\n",
       "    </tr>\n",
       "    <tr>\n",
       "      <th>1</th>\n",
       "      <td>2</td>\n",
       "      <td>001-329-424-4354</td>\n",
       "    </tr>\n",
       "    <tr>\n",
       "      <th>2</th>\n",
       "      <td>3</td>\n",
       "      <td>001-423-536-4362</td>\n",
       "    </tr>\n",
       "    <tr>\n",
       "      <th>3</th>\n",
       "      <td>4</td>\n",
       "      <td>+1-324-423-5378</td>\n",
       "    </tr>\n",
       "    <tr>\n",
       "      <th>4</th>\n",
       "      <td>5</td>\n",
       "      <td>4365</td>\n",
       "    </tr>\n",
       "  </tbody>\n",
       "</table>\n",
       "</div>"
      ],
      "text/plain": [
       "   ID          telefone\n",
       "0   1  001-702-397-5143\n",
       "1   2  001-329-424-4354\n",
       "2   3  001-423-536-4362\n",
       "3   4   +1-324-423-5378\n",
       "4   5              4365"
      ]
     },
     "execution_count": 20,
     "metadata": {},
     "output_type": "execute_result"
    }
   ],
   "source": [
    "dados=pd.DataFrame({\"ID\": [1, 2, 3, 4, 5], \"telefone\": [\"001-702-397-5143\", \"001-329-424-4354\", \"001-423-536-4362\", \"+1-324-423-5378\", \"4365\"]})\n",
    "dados"
   ]
  },
  {
   "cell_type": "code",
   "execution_count": 22,
   "id": "64f8007f",
   "metadata": {},
   "outputs": [
    {
     "name": "stderr",
     "output_type": "stream",
     "text": [
      "C:\\Users\\alber\\AppData\\Local\\Temp/ipykernel_76596/4140909249.py:1: FutureWarning: The default value of regex will change from True to False in a future version. In addition, single character regular expressions will *not* be treated as literal strings when regex=True.\n",
      "  dados[\"telefone\"]=dados[\"telefone\"].str.replace(\"+\", \"00\")\n"
     ]
    },
    {
     "data": {
      "text/html": [
       "<div>\n",
       "<style scoped>\n",
       "    .dataframe tbody tr th:only-of-type {\n",
       "        vertical-align: middle;\n",
       "    }\n",
       "\n",
       "    .dataframe tbody tr th {\n",
       "        vertical-align: top;\n",
       "    }\n",
       "\n",
       "    .dataframe thead th {\n",
       "        text-align: right;\n",
       "    }\n",
       "</style>\n",
       "<table border=\"1\" class=\"dataframe\">\n",
       "  <thead>\n",
       "    <tr style=\"text-align: right;\">\n",
       "      <th></th>\n",
       "      <th>ID</th>\n",
       "      <th>telefone</th>\n",
       "    </tr>\n",
       "  </thead>\n",
       "  <tbody>\n",
       "    <tr>\n",
       "      <th>0</th>\n",
       "      <td>1</td>\n",
       "      <td>001-702-397-5143</td>\n",
       "    </tr>\n",
       "    <tr>\n",
       "      <th>1</th>\n",
       "      <td>2</td>\n",
       "      <td>001-329-424-4354</td>\n",
       "    </tr>\n",
       "    <tr>\n",
       "      <th>2</th>\n",
       "      <td>3</td>\n",
       "      <td>001-423-536-4362</td>\n",
       "    </tr>\n",
       "    <tr>\n",
       "      <th>3</th>\n",
       "      <td>4</td>\n",
       "      <td>001-324-423-5378</td>\n",
       "    </tr>\n",
       "    <tr>\n",
       "      <th>4</th>\n",
       "      <td>5</td>\n",
       "      <td>4365</td>\n",
       "    </tr>\n",
       "  </tbody>\n",
       "</table>\n",
       "</div>"
      ],
      "text/plain": [
       "   ID          telefone\n",
       "0   1  001-702-397-5143\n",
       "1   2  001-329-424-4354\n",
       "2   3  001-423-536-4362\n",
       "3   4  001-324-423-5378\n",
       "4   5              4365"
      ]
     },
     "execution_count": 22,
     "metadata": {},
     "output_type": "execute_result"
    }
   ],
   "source": [
    "dados[\"telefone\"]=dados[\"telefone\"].str.replace(\"+\", \"00\")\n",
    "dados"
   ]
  },
  {
   "cell_type": "code",
   "execution_count": 23,
   "id": "a9427e8d",
   "metadata": {},
   "outputs": [
    {
     "data": {
      "text/html": [
       "<div>\n",
       "<style scoped>\n",
       "    .dataframe tbody tr th:only-of-type {\n",
       "        vertical-align: middle;\n",
       "    }\n",
       "\n",
       "    .dataframe tbody tr th {\n",
       "        vertical-align: top;\n",
       "    }\n",
       "\n",
       "    .dataframe thead th {\n",
       "        text-align: right;\n",
       "    }\n",
       "</style>\n",
       "<table border=\"1\" class=\"dataframe\">\n",
       "  <thead>\n",
       "    <tr style=\"text-align: right;\">\n",
       "      <th></th>\n",
       "      <th>ID</th>\n",
       "      <th>telefone</th>\n",
       "    </tr>\n",
       "  </thead>\n",
       "  <tbody>\n",
       "    <tr>\n",
       "      <th>0</th>\n",
       "      <td>1</td>\n",
       "      <td>0017023975143</td>\n",
       "    </tr>\n",
       "    <tr>\n",
       "      <th>1</th>\n",
       "      <td>2</td>\n",
       "      <td>0013294244354</td>\n",
       "    </tr>\n",
       "    <tr>\n",
       "      <th>2</th>\n",
       "      <td>3</td>\n",
       "      <td>0014235364362</td>\n",
       "    </tr>\n",
       "    <tr>\n",
       "      <th>3</th>\n",
       "      <td>4</td>\n",
       "      <td>0013244235378</td>\n",
       "    </tr>\n",
       "    <tr>\n",
       "      <th>4</th>\n",
       "      <td>5</td>\n",
       "      <td>4365</td>\n",
       "    </tr>\n",
       "  </tbody>\n",
       "</table>\n",
       "</div>"
      ],
      "text/plain": [
       "   ID       telefone\n",
       "0   1  0017023975143\n",
       "1   2  0013294244354\n",
       "2   3  0014235364362\n",
       "3   4  0013244235378\n",
       "4   5           4365"
      ]
     },
     "execution_count": 23,
     "metadata": {},
     "output_type": "execute_result"
    }
   ],
   "source": [
    "dados[\"telefone\"]=dados[\"telefone\"].str.replace(\"-\", \"\")\n",
    "dados"
   ]
  },
  {
   "cell_type": "code",
   "execution_count": 27,
   "id": "88c378dc",
   "metadata": {},
   "outputs": [],
   "source": [
    "# Substituindo os quatro dígitos por um valor faltante\n",
    "dados.loc[dados[\"telefone\"].str.len()<10, \"telefone\"]=np.nan"
   ]
  },
  {
   "cell_type": "code",
   "execution_count": 28,
   "id": "6b60b35e",
   "metadata": {},
   "outputs": [
    {
     "data": {
      "text/html": [
       "<div>\n",
       "<style scoped>\n",
       "    .dataframe tbody tr th:only-of-type {\n",
       "        vertical-align: middle;\n",
       "    }\n",
       "\n",
       "    .dataframe tbody tr th {\n",
       "        vertical-align: top;\n",
       "    }\n",
       "\n",
       "    .dataframe thead th {\n",
       "        text-align: right;\n",
       "    }\n",
       "</style>\n",
       "<table border=\"1\" class=\"dataframe\">\n",
       "  <thead>\n",
       "    <tr style=\"text-align: right;\">\n",
       "      <th></th>\n",
       "      <th>ID</th>\n",
       "      <th>telefone</th>\n",
       "    </tr>\n",
       "  </thead>\n",
       "  <tbody>\n",
       "    <tr>\n",
       "      <th>0</th>\n",
       "      <td>1</td>\n",
       "      <td>0017023975143</td>\n",
       "    </tr>\n",
       "    <tr>\n",
       "      <th>1</th>\n",
       "      <td>2</td>\n",
       "      <td>0013294244354</td>\n",
       "    </tr>\n",
       "    <tr>\n",
       "      <th>2</th>\n",
       "      <td>3</td>\n",
       "      <td>0014235364362</td>\n",
       "    </tr>\n",
       "    <tr>\n",
       "      <th>3</th>\n",
       "      <td>4</td>\n",
       "      <td>0013244235378</td>\n",
       "    </tr>\n",
       "    <tr>\n",
       "      <th>4</th>\n",
       "      <td>5</td>\n",
       "      <td>NaN</td>\n",
       "    </tr>\n",
       "  </tbody>\n",
       "</table>\n",
       "</div>"
      ],
      "text/plain": [
       "   ID       telefone\n",
       "0   1  0017023975143\n",
       "1   2  0013294244354\n",
       "2   3  0014235364362\n",
       "3   4  0013244235378\n",
       "4   5            NaN"
      ]
     },
     "execution_count": 28,
     "metadata": {},
     "output_type": "execute_result"
    }
   ],
   "source": [
    "dados"
   ]
  },
  {
   "attachments": {
    "image.png": {
     "image/png": "[encoded data removed]"
    }
   },
   "cell_type": "markdown",
   "id": "a0bf9cdd",
   "metadata": {},
   "source": [
    "## Para dados mais complicados, podemos usar as expressões regulares onde tem inúmeras formas de identificar padrões complexos\n",
    "![image.png](attachment:image.png)"
   ]
  }
 ],
 "metadata": {
  "kernelspec": {
   "display_name": "Python 3 (ipykernel)",
   "language": "python",
   "name": "python3"
  },
  "language_info": {
   "codemirror_mode": {
    "name": "ipython",
    "version": 3
   },
   "file_extension": ".py",
   "mimetype": "text/x-python",
   "name": "python",
   "nbconvert_exporter": "python",
   "pygments_lexer": "ipython3",
   "version": "3.9.7"
  }
 },
 "nbformat": 4,
 "nbformat_minor": 5
}
