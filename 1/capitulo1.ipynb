{
 "cells": [
  {
   "cell_type": "markdown",
   "id": "08fab60a",
   "metadata": {},
   "source": [
    "## Nesse notebook apresentarei algumas funções úteis para limpeza de dados, especificamente incluindo:\n",
    "1. Exclusão de partes inadequadas em uma string\n",
    "2. Mudança de tipo de variável\n",
    "3. Restrições dos valores de uma variável"
   ]
  },
  {
   "cell_type": "code",
   "execution_count": 6,
   "id": "edcc488f",
   "metadata": {},
   "outputs": [],
   "source": [
    "import pandas as pd"
   ]
  },
  {
   "cell_type": "code",
   "execution_count": 7,
   "id": "3d9fe99b",
   "metadata": {},
   "outputs": [
    {
     "data": {
      "text/html": [
       "<div>\n",
       "<style scoped>\n",
       "    .dataframe tbody tr th:only-of-type {\n",
       "        vertical-align: middle;\n",
       "    }\n",
       "\n",
       "    .dataframe tbody tr th {\n",
       "        vertical-align: top;\n",
       "    }\n",
       "\n",
       "    .dataframe thead th {\n",
       "        text-align: right;\n",
       "    }\n",
       "</style>\n",
       "<table border=\"1\" class=\"dataframe\">\n",
       "  <thead>\n",
       "    <tr style=\"text-align: right;\">\n",
       "      <th></th>\n",
       "      <th>ID</th>\n",
       "      <th>Revenue</th>\n",
       "    </tr>\n",
       "  </thead>\n",
       "  <tbody>\n",
       "    <tr>\n",
       "      <th>0</th>\n",
       "      <td>1</td>\n",
       "      <td>10000$</td>\n",
       "    </tr>\n",
       "    <tr>\n",
       "      <th>1</th>\n",
       "      <td>2</td>\n",
       "      <td>20000$</td>\n",
       "    </tr>\n",
       "    <tr>\n",
       "      <th>2</th>\n",
       "      <td>3</td>\n",
       "      <td>5000$</td>\n",
       "    </tr>\n",
       "  </tbody>\n",
       "</table>\n",
       "</div>"
      ],
      "text/plain": [
       "   ID Revenue\n",
       "0   1  10000$\n",
       "1   2  20000$\n",
       "2   3   5000$"
      ]
     },
     "execution_count": 7,
     "metadata": {},
     "output_type": "execute_result"
    }
   ],
   "source": [
    "dados=pd.DataFrame({\"ID\":[1, 2, 3], \"Revenue\": [\"10000$\", \"20000$\", \"5000$\"]})\n",
    "dados"
   ]
  },
  {
   "cell_type": "markdown",
   "id": "f14db5a1",
   "metadata": {},
   "source": [
    "### Apesar da variável Revenue ser um número, ele está sendo tratada como uma string por causa do $. Logo, devemos tratar esse problemas de problema usando algumas funções "
   ]
  },
  {
   "cell_type": "code",
   "execution_count": 8,
   "id": "733047fa",
   "metadata": {},
   "outputs": [
    {
     "data": {
      "text/plain": [
       "ID          int64\n",
       "Revenue    object\n",
       "dtype: object"
      ]
     },
     "execution_count": 8,
     "metadata": {},
     "output_type": "execute_result"
    }
   ],
   "source": [
    "dados.dtypes"
   ]
  },
  {
   "cell_type": "markdown",
   "id": "18806515",
   "metadata": {},
   "source": [
    "### Portanto, se tirarmos métricas numérica nessa variável teremos alguns erros inesperados"
   ]
  },
  {
   "cell_type": "code",
   "execution_count": 9,
   "id": "31706978",
   "metadata": {},
   "outputs": [
    {
     "data": {
      "text/plain": [
       "'10000$20000$5000$'"
      ]
     },
     "execution_count": 9,
     "metadata": {},
     "output_type": "execute_result"
    }
   ],
   "source": [
    "dados[\"Revenue\"].sum()"
   ]
  },
  {
   "cell_type": "markdown",
   "id": "ca902f74",
   "metadata": {},
   "source": [
    "### Usarei duas funções:\n",
    "1. strip: Tira de uma string os argumentos fornecidos\n",
    "2. astype: Muda o tipo de uma variável"
   ]
  },
  {
   "cell_type": "code",
   "execution_count": 10,
   "id": "2738a4ff",
   "metadata": {},
   "outputs": [
    {
     "data": {
      "text/plain": [
       "0    10000\n",
       "1    20000\n",
       "2     5000\n",
       "Name: Revenue, dtype: int32"
      ]
     },
     "execution_count": 10,
     "metadata": {},
     "output_type": "execute_result"
    }
   ],
   "source": [
    "dados[\"Revenue\"]=dados[\"Revenue\"].str.strip(\"$\")\n",
    "dados[\"Revenue\"]=dados[\"Revenue\"].astype(\"int\")\n",
    "dados[\"Revenue\"]"
   ]
  },
  {
   "cell_type": "code",
   "execution_count": 11,
   "id": "cb564eaf",
   "metadata": {},
   "outputs": [
    {
     "data": {
      "text/plain": [
       "ID         int64\n",
       "Revenue    int32\n",
       "dtype: object"
      ]
     },
     "execution_count": 11,
     "metadata": {},
     "output_type": "execute_result"
    }
   ],
   "source": [
    "dados.dtypes"
   ]
  },
  {
   "cell_type": "code",
   "execution_count": 13,
   "id": "09dfbf23",
   "metadata": {},
   "outputs": [],
   "source": [
    "# Forma de verificar uma condição\n",
    "assert dados['Revenue'].dtype == 'int'"
   ]
  },
  {
   "cell_type": "markdown",
   "id": "2a2acf6f",
   "metadata": {},
   "source": [
    "### Agora vamos lidar com valores fora do intervalo desejado. Alguns métodos para contornar isso são:\n",
    "1. Excluir essas observações\n",
    "2. Setar valores para substituição como mínimo e máximo\n",
    "3. Tratar como valores faltantes e imputar\n",
    "4. Setar valores personalizados baseados na área de negócio"
   ]
  },
  {
   "cell_type": "markdown",
   "id": "37d74867",
   "metadata": {},
   "source": [
    "#### Vamos super que temos dados de filmes que são avaliados nos inteiros de 1 a 5"
   ]
  },
  {
   "cell_type": "code",
   "execution_count": 24,
   "id": "e2195e0e",
   "metadata": {},
   "outputs": [
    {
     "data": {
      "text/html": [
       "<div>\n",
       "<style scoped>\n",
       "    .dataframe tbody tr th:only-of-type {\n",
       "        vertical-align: middle;\n",
       "    }\n",
       "\n",
       "    .dataframe tbody tr th {\n",
       "        vertical-align: top;\n",
       "    }\n",
       "\n",
       "    .dataframe thead th {\n",
       "        text-align: right;\n",
       "    }\n",
       "</style>\n",
       "<table border=\"1\" class=\"dataframe\">\n",
       "  <thead>\n",
       "    <tr style=\"text-align: right;\">\n",
       "      <th></th>\n",
       "      <th>movie_name</th>\n",
       "      <th>rating</th>\n",
       "    </tr>\n",
       "  </thead>\n",
       "  <tbody>\n",
       "    <tr>\n",
       "      <th>0</th>\n",
       "      <td>A</td>\n",
       "      <td>1</td>\n",
       "    </tr>\n",
       "    <tr>\n",
       "      <th>1</th>\n",
       "      <td>B</td>\n",
       "      <td>5</td>\n",
       "    </tr>\n",
       "    <tr>\n",
       "      <th>2</th>\n",
       "      <td>C</td>\n",
       "      <td>6</td>\n",
       "    </tr>\n",
       "  </tbody>\n",
       "</table>\n",
       "</div>"
      ],
      "text/plain": [
       "  movie_name  rating\n",
       "0          A       1\n",
       "1          B       5\n",
       "2          C       6"
      ]
     },
     "execution_count": 24,
     "metadata": {},
     "output_type": "execute_result"
    }
   ],
   "source": [
    "movies=pd.DataFrame({\"movie_name\":[\"A\", \"B\", \"C\"], \"rating\":[1,5,6]})\n",
    "movies"
   ]
  },
  {
   "cell_type": "code",
   "execution_count": 25,
   "id": "fd82e67f",
   "metadata": {},
   "outputs": [
    {
     "data": {
      "text/html": [
       "<div>\n",
       "<style scoped>\n",
       "    .dataframe tbody tr th:only-of-type {\n",
       "        vertical-align: middle;\n",
       "    }\n",
       "\n",
       "    .dataframe tbody tr th {\n",
       "        vertical-align: top;\n",
       "    }\n",
       "\n",
       "    .dataframe thead th {\n",
       "        text-align: right;\n",
       "    }\n",
       "</style>\n",
       "<table border=\"1\" class=\"dataframe\">\n",
       "  <thead>\n",
       "    <tr style=\"text-align: right;\">\n",
       "      <th></th>\n",
       "      <th>movie_name</th>\n",
       "      <th>rating</th>\n",
       "    </tr>\n",
       "  </thead>\n",
       "  <tbody>\n",
       "    <tr>\n",
       "      <th>0</th>\n",
       "      <td>A</td>\n",
       "      <td>1</td>\n",
       "    </tr>\n",
       "    <tr>\n",
       "      <th>1</th>\n",
       "      <td>B</td>\n",
       "      <td>5</td>\n",
       "    </tr>\n",
       "  </tbody>\n",
       "</table>\n",
       "</div>"
      ],
      "text/plain": [
       "  movie_name  rating\n",
       "0          A       1\n",
       "1          B       5"
      ]
     },
     "execution_count": 25,
     "metadata": {},
     "output_type": "execute_result"
    }
   ],
   "source": [
    "# Drop values using filtering\n",
    "movies2 = movies[movies['rating'] <= 5]\n",
    "movies2"
   ]
  },
  {
   "cell_type": "code",
   "execution_count": 26,
   "id": "95b6346d",
   "metadata": {},
   "outputs": [],
   "source": [
    "assert movies2['rating'].max() <= 5"
   ]
  },
  {
   "cell_type": "code",
   "execution_count": 27,
   "id": "f0dbfcbe",
   "metadata": {},
   "outputs": [
    {
     "data": {
      "text/html": [
       "<div>\n",
       "<style scoped>\n",
       "    .dataframe tbody tr th:only-of-type {\n",
       "        vertical-align: middle;\n",
       "    }\n",
       "\n",
       "    .dataframe tbody tr th {\n",
       "        vertical-align: top;\n",
       "    }\n",
       "\n",
       "    .dataframe thead th {\n",
       "        text-align: right;\n",
       "    }\n",
       "</style>\n",
       "<table border=\"1\" class=\"dataframe\">\n",
       "  <thead>\n",
       "    <tr style=\"text-align: right;\">\n",
       "      <th></th>\n",
       "      <th>movie_name</th>\n",
       "      <th>rating</th>\n",
       "    </tr>\n",
       "  </thead>\n",
       "  <tbody>\n",
       "    <tr>\n",
       "      <th>0</th>\n",
       "      <td>A</td>\n",
       "      <td>1</td>\n",
       "    </tr>\n",
       "    <tr>\n",
       "      <th>1</th>\n",
       "      <td>B</td>\n",
       "      <td>5</td>\n",
       "    </tr>\n",
       "    <tr>\n",
       "      <th>2</th>\n",
       "      <td>C</td>\n",
       "      <td>5</td>\n",
       "    </tr>\n",
       "  </tbody>\n",
       "</table>\n",
       "</div>"
      ],
      "text/plain": [
       "  movie_name  rating\n",
       "0          A       1\n",
       "1          B       5\n",
       "2          C       5"
      ]
     },
     "execution_count": 27,
     "metadata": {},
     "output_type": "execute_result"
    }
   ],
   "source": [
    "# Convert avg_rating > 5 to 5\n",
    "movies.loc[movies['rating'] > 5, 'rating'] = 5\n",
    "movies"
   ]
  },
  {
   "cell_type": "code",
   "execution_count": 28,
   "id": "12a8aed9",
   "metadata": {},
   "outputs": [],
   "source": [
    "assert movies['rating'].max() <= 5"
   ]
  },
  {
   "cell_type": "code",
   "execution_count": null,
   "id": "18871a6d",
   "metadata": {},
   "outputs": [],
   "source": [
    "### Tratamento de duplicadas:\n",
    "1.\n",
    "2. "
   ]
  }
 ],
 "metadata": {
  "kernelspec": {
   "display_name": "Python 3 (ipykernel)",
   "language": "python",
   "name": "python3"
  },
  "language_info": {
   "codemirror_mode": {
    "name": "ipython",
    "version": 3
   },
   "file_extension": ".py",
   "mimetype": "text/x-python",
   "name": "python",
   "nbconvert_exporter": "python",
   "pygments_lexer": "ipython3",
   "version": "3.9.7"
  }
 },
 "nbformat": 4,
 "nbformat_minor": 5
}
